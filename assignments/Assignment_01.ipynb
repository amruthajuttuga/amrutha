{
  "cells": [
    {
      "cell_type": "markdown",
      "metadata": {
        "id": "view-in-github",
        "colab_type": "text"
      },
      "source": [
        "<a href=\"https://colab.research.google.com/github/amruthajuttuga/amrutha/blob/main/assignments/Assignment_01.ipynb\" target=\"_parent\"><img src=\"https://colab.research.google.com/assets/colab-badge.svg\" alt=\"Open In Colab\"/></a>"
      ]
    },
    {
      "cell_type": "markdown",
      "id": "548b84c2-e24f-4a12-98bb-5e7bd5ec86bd",
      "metadata": {
        "id": "548b84c2-e24f-4a12-98bb-5e7bd5ec86bd"
      },
      "source": [
        "# Python"
      ]
    },
    {
      "cell_type": "markdown",
      "id": "99fbfc45-ba9e-4766-8219-f5dbcacc8481",
      "metadata": {
        "id": "99fbfc45-ba9e-4766-8219-f5dbcacc8481"
      },
      "source": [
        "<a target=\"_blank\" href=\"https://colab.research.google.com/github/kgsb24/rishi-college/blob/main/assignments/Assignment_01.ipynb\">\n",
        "  <img src=\"https://colab.research.google.com/assets/colab-badge.svg\" alt=\"Open In Colab\"/>\n",
        "</a>"
      ]
    },
    {
      "cell_type": "markdown",
      "id": "07a1f870-f905-4703-8b65-12e83172133a",
      "metadata": {
        "id": "07a1f870-f905-4703-8b65-12e83172133a"
      },
      "source": [
        "## Basic Python Fundamentals"
      ]
    },
    {
      "cell_type": "code",
      "execution_count": null,
      "id": "502e1d87-2fdd-4588-a330-2af21268215e",
      "metadata": {
        "id": "502e1d87-2fdd-4588-a330-2af21268215e",
        "colab": {
          "base_uri": "https://localhost:8080/"
        },
        "outputId": "029fd1d7-061f-4505-e49b-2a98c810c04d"
      },
      "outputs": [
        {
          "output_type": "stream",
          "name": "stdout",
          "text": [
            "10\n"
          ]
        }
      ],
      "source": [
        "# Write a Python program to declare a variable x with the value 10 and print its type.\n",
        "x=10\n",
        "print(x)"
      ]
    },
    {
      "cell_type": "code",
      "execution_count": null,
      "id": "dae77579-4b7d-4f06-96e0-7bdfe43860d7",
      "metadata": {
        "id": "dae77579-4b7d-4f06-96e0-7bdfe43860d7",
        "outputId": "a1965324-c2f3-446a-c870-a2a6a7eb12e3",
        "colab": {
          "base_uri": "https://localhost:8080/"
        }
      },
      "outputs": [
        {
          "output_type": "stream",
          "name": "stdout",
          "text": [
            "30\n"
          ]
        }
      ],
      "source": [
        "# Write a Python program to declare three variables a = 5, b = 10, and c = 15, and print their sum.\n",
        "a=5\n",
        "b=10\n",
        "c=15\n",
        "print(a+b+c)"
      ]
    },
    {
      "cell_type": "code",
      "execution_count": null,
      "id": "c32867b2-a615-426a-89ae-bd2793b6a4dc",
      "metadata": {
        "id": "c32867b2-a615-426a-89ae-bd2793b6a4dc",
        "colab": {
          "base_uri": "https://localhost:8080/"
        },
        "outputId": "d177bebb-f7ff-4a29-a08e-d326765417af"
      },
      "outputs": [
        {
          "output_type": "stream",
          "name": "stdout",
          "text": [
            "<class 'int'>\n"
          ]
        }
      ],
      "source": [
        "# Write a Python program that checks and prints the type of a variable (e.g., int, float, str, etc.).\n",
        "a=10\n",
        "print(type(a))"
      ]
    },
    {
      "cell_type": "code",
      "execution_count": null,
      "id": "8b233e41-9d44-4869-9ead-afb3ff1c0b67",
      "metadata": {
        "id": "8b233e41-9d44-4869-9ead-afb3ff1c0b67",
        "colab": {
          "base_uri": "https://localhost:8080/"
        },
        "outputId": "5416c344-3d87-49b1-e024-e41e742b1a3e"
      },
      "outputs": [
        {
          "output_type": "stream",
          "name": "stdout",
          "text": [
            "enter first number29\n",
            "enter second number46\n",
            "75\n",
            "-17\n",
            "1334\n",
            "0.6304347826086957\n"
          ]
        }
      ],
      "source": [
        "# Write a Python program to perform addition, subtraction, multiplication, and division on two numbers. (User input is required for the numbers)\n",
        "a=int(input(\"enter first number\"))\n",
        "b=int(input(\"enter second number\"))\n",
        "print(a+b)\n",
        "print(a-b)\n",
        "print(a*b)\n",
        "print(a/b)"
      ]
    },
    {
      "cell_type": "code",
      "execution_count": null,
      "id": "629435bd-6bfa-44de-91d9-3b2937713257",
      "metadata": {
        "id": "629435bd-6bfa-44de-91d9-3b2937713257",
        "outputId": "ebc97cc4-adb7-46e0-a52f-9005bc21258d",
        "colab": {
          "base_uri": "https://localhost:8080/"
        }
      },
      "outputs": [
        {
          "output_type": "stream",
          "name": "stdout",
          "text": [
            "123\n",
            "123.0\n"
          ]
        }
      ],
      "source": [
        "# Write a Python program to convert a string \"123\" to an integer and a float and print the results.\n",
        "a=\"123\"\n",
        "print(int(a))\n",
        "print(float(a))"
      ]
    },
    {
      "cell_type": "code",
      "execution_count": null,
      "id": "599421f1-51c1-4653-9d78-b007fcc6861b",
      "metadata": {
        "id": "599421f1-51c1-4653-9d78-b007fcc6861b",
        "outputId": "b7d2f5a1-c18e-433e-8d50-a655e9de12ce",
        "colab": {
          "base_uri": "https://localhost:8080/"
        }
      },
      "outputs": [
        {
          "output_type": "stream",
          "name": "stdout",
          "text": [
            "enter a stringamrutha\n",
            "a\n"
          ]
        }
      ],
      "source": [
        "# Write a Python program to print the first character of a given string. (User input for the string)\n",
        "a=input(\"enter a string\")\n",
        "print(a[0])"
      ]
    },
    {
      "cell_type": "code",
      "execution_count": null,
      "id": "54ee0a5d-415f-40b6-b82e-c0de12a002f9",
      "metadata": {
        "id": "54ee0a5d-415f-40b6-b82e-c0de12a002f9",
        "outputId": "b8aacb86-a8db-4cad-bdcc-a02c49648c00",
        "colab": {
          "base_uri": "https://localhost:8080/"
        }
      },
      "outputs": [
        {
          "output_type": "stream",
          "name": "stdout",
          "text": [
            "enter a stringammu\n",
            "4\n"
          ]
        }
      ],
      "source": [
        "# Write a Python program to print the length of a string. (User input for the string)\n",
        "a=input(\"enter a string\")\n",
        "print(len(a))"
      ]
    },
    {
      "cell_type": "code",
      "execution_count": null,
      "id": "65f44c33-618e-4337-a9d1-9de888c93a0a",
      "metadata": {
        "id": "65f44c33-618e-4337-a9d1-9de888c93a0a",
        "outputId": "d084a36f-0637-4c6a-afc9-7eae181a2fde",
        "colab": {
          "base_uri": "https://localhost:8080/"
        }
      },
      "outputs": [
        {
          "output_type": "stream",
          "name": "stdout",
          "text": [
            "enter a stringjuttuga\n",
            "True\n"
          ]
        }
      ],
      "source": [
        "# Write a Python program to check if a given string contains only alphabets.\n",
        "a=input(\"enter a string\")\n",
        "print(a.isalpha())"
      ]
    },
    {
      "cell_type": "code",
      "execution_count": null,
      "id": "37463128-2b51-4860-b6bf-40d3c03fbe84",
      "metadata": {
        "id": "37463128-2b51-4860-b6bf-40d3c03fbe84",
        "outputId": "d8cc1025-b7d8-487f-b54e-f3391aeb6f23",
        "colab": {
          "base_uri": "https://localhost:8080/"
        }
      },
      "outputs": [
        {
          "output_type": "stream",
          "name": "stdout",
          "text": [
            "enter first stringdurga\n",
            "enter second stringthathaji\n",
            "durgathathaji\n"
          ]
        }
      ],
      "source": [
        "# Write a Python program to concatenate two strings. (User input for the strings)\n",
        "a=input(\"enter first string\")\n",
        "b=input(\"enter second string\")\n",
        "print(a+b)"
      ]
    },
    {
      "cell_type": "code",
      "execution_count": null,
      "id": "b1c5d364-eccf-473a-b03a-ab15f3e917cf",
      "metadata": {
        "id": "b1c5d364-eccf-473a-b03a-ab15f3e917cf",
        "colab": {
          "base_uri": "https://localhost:8080/"
        },
        "outputId": "c9a5529a-9d40-4c8b-c4bd-83b9358f0d0e"
      },
      "outputs": [
        {
          "output_type": "stream",
          "name": "stdout",
          "text": [
            "Enter a string: ammu\n",
            "The substring \"abc\" is not found in the given string.\n"
          ]
        }
      ],
      "source": [
        "# Write a Python program to find the index of a substring \"abc\" in a string. (User input for the string)\n",
        "\n",
        "\n",
        "def find_substring_index(input_string):\n",
        "    substring = \"abc\"\n",
        "    index = input_string.find(substring)\n",
        "    return index\n",
        "\n",
        "\n",
        "if __name__ == \"__main__\":\n",
        "    user_input = input(\"Enter a string: \")\n",
        "    result = find_substring_index(user_input)\n",
        "\n",
        "    if result != -1:\n",
        "        print(f'The substring \"abc\" is found at index {result}.')\n",
        "    else:\n",
        "        print('The substring \"abc\" is not found in the given string.')\n",
        "\n"
      ]
    },
    {
      "cell_type": "code",
      "execution_count": null,
      "id": "cc92afd9-ba4b-4934-a79d-f26825b4efc2",
      "metadata": {
        "id": "cc92afd9-ba4b-4934-a79d-f26825b4efc2",
        "colab": {
          "base_uri": "https://localhost:8080/"
        },
        "outputId": "969a0f50-5472-4d9c-d0a3-c42ddb072bfd"
      },
      "outputs": [
        {
          "output_type": "stream",
          "name": "stdout",
          "text": [
            "Enter a string: lakshmi\n",
            "Uppercase: LAKSHMI\n",
            "Lowercase: lakshmi\n"
          ]
        }
      ],
      "source": [
        "# tWrite a Python program to convert a string to boh uppercase and lowercase. (User input for the string)\n",
        "\n",
        "user_input = input(\"Enter a string: \")\n",
        "\n",
        "\n",
        "uppercase_string = user_input.upper()\n",
        "\n",
        "\n",
        "lowercase_string = user_input.lower()\n",
        "\n",
        "\n",
        "print(\"Uppercase:\", uppercase_string)\n",
        "print(\"Lowercase:\", lowercase_string)\n"
      ]
    },
    {
      "cell_type": "code",
      "execution_count": null,
      "id": "f24f79b3-da8b-44bf-8310-c68442e86e3e",
      "metadata": {
        "id": "f24f79b3-da8b-44bf-8310-c68442e86e3e",
        "colab": {
          "base_uri": "https://localhost:8080/"
        },
        "outputId": "307b40d0-de13-4288-8741-f380d3981cce"
      },
      "outputs": [
        {
          "output_type": "stream",
          "name": "stdout",
          "text": [
            "Enter a string: juttuga\n",
            "Enter the character to count: 7\n",
            "The character '7' appears 0 times in the string.\n"
          ]
        }
      ],
      "source": [
        "# Write a Python program to count how many times a particular character appears in a string. (User input for string and character\n",
        "\n",
        "input_string = input(\"Enter a string: \")\n",
        "char_to_count = input(\"Enter the character to count: \")\n",
        "\n",
        "\n",
        "count = 0\n",
        "\n",
        "\n",
        "for char in input_string:\n",
        "    if char == char_to_count:\n",
        "        count += 1\n",
        "\n",
        "\n",
        "print(f\"The character '{char_to_count}' appears {count} times in the string.\")\n"
      ]
    },
    {
      "cell_type": "code",
      "execution_count": null,
      "id": "f2e8f25c-5c34-44eb-b749-7cc4c100b9a8",
      "metadata": {
        "id": "f2e8f25c-5c34-44eb-b749-7cc4c100b9a8",
        "colab": {
          "base_uri": "https://localhost:8080/"
        },
        "outputId": "91834f67-af9c-40fa-bf8f-824e65a44db4"
      },
      "outputs": [
        {
          "output_type": "stream",
          "name": "stdout",
          "text": [
            "Please enter your name: amrutha\n",
            "Hello, amrutha, Good Morning!\n"
          ]
        }
      ],
      "source": [
        "# Write a Python program to take the user's name as input and print a personalized greeting. (Hello, username, Good Morning)\n",
        "\n",
        "name = input(\"Please enter your name: \")\n",
        "\n",
        "\n",
        "print(f\"Hello, {name}, Good Morning!\")\n"
      ]
    },
    {
      "cell_type": "code",
      "source": [],
      "metadata": {
        "id": "8GcEPXBj-tMr"
      },
      "id": "8GcEPXBj-tMr",
      "execution_count": null,
      "outputs": []
    },
    {
      "cell_type": "code",
      "execution_count": null,
      "id": "189296cf-77e6-4f48-b010-77458da5bc9d",
      "metadata": {
        "id": "189296cf-77e6-4f48-b010-77458da5bc9d",
        "colab": {
          "base_uri": "https://localhost:8080/"
        },
        "outputId": "2d94f9f1-49ee-4ec0-96cc-8be2e1cf4e71"
      },
      "outputs": [
        {
          "output_type": "stream",
          "name": "stdout",
          "text": [
            "Enter the first number: 29\n",
            "Enter the second number: 47\n",
            "The sum of 29.0 and 47.0 is 76.0\n"
          ]
        }
      ],
      "source": [
        "# Write a Python program to take two numbers as input and print their sum.\n",
        "\n",
        "num1 = float(input(\"Enter the first number: \"))\n",
        "num2 = float(input(\"Enter the second number: \"))\n",
        "\n",
        "\n",
        "sum = num1 + num2\n",
        "\n",
        "\n",
        "print(\"The sum of {0} and {1} is {2}\".format(num1, num2, sum))\n"
      ]
    },
    {
      "cell_type": "code",
      "execution_count": null,
      "id": "0563b26c-0218-47b8-9035-98beb73b0931",
      "metadata": {
        "id": "0563b26c-0218-47b8-9035-98beb73b0931",
        "colab": {
          "base_uri": "https://localhost:8080/"
        },
        "outputId": "d9914182-8139-434c-d2e2-7700bad2602e"
      },
      "outputs": [
        {
          "output_type": "stream",
          "name": "stdout",
          "text": [
            "Enter your name: amrutha\n",
            "Enter your age: 20\n",
            "My name is amrutha and I am 20 years old.\n"
          ]
        }
      ],
      "source": [
        "# Write a Python program to format and display a string containing the user's name and age. (User input required)\n",
        "\n",
        "def display_user_info():\n",
        "\n",
        "    name = input(\"Enter your name: \")\n",
        "    age = input(\"Enter your age: \")\n",
        "\n",
        "\n",
        "    formatted_string = \"My name is {} and I am {} years old.\".format(name, age)\n",
        "    print(formatted_string)\n",
        "\n",
        "\n",
        "display_user_info()\n"
      ]
    },
    {
      "cell_type": "markdown",
      "id": "0bde6e5a-0415-4b06-8b5a-95fa252b34eb",
      "metadata": {
        "id": "0bde6e5a-0415-4b06-8b5a-95fa252b34eb"
      },
      "source": [
        "## Control Structures (Conditionals and Loops)"
      ]
    },
    {
      "cell_type": "code",
      "execution_count": null,
      "id": "aefff5f3-b61e-43e6-a458-7367ef1af9de",
      "metadata": {
        "id": "aefff5f3-b61e-43e6-a458-7367ef1af9de",
        "colab": {
          "base_uri": "https://localhost:8080/"
        },
        "outputId": "2bed75ad-0804-4565-8b51-689679dee52b"
      },
      "outputs": [
        {
          "output_type": "stream",
          "name": "stdout",
          "text": [
            "Enter a number: 23\n",
            "The number is positive.\n"
          ]
        }
      ],
      "source": [
        "# Write a Python program that takes a number as input and checks whether it is positive, negative, or zero.\n",
        "\n",
        "def check_number(num):\n",
        "    if num > 0:\n",
        "        return \"The number is positive.\"\n",
        "    elif num < 0:\n",
        "        return \"The number is negative.\"\n",
        "    else:\n",
        "        return \"The number is zero.\"\n",
        "\n",
        "\n",
        "number = float(input(\"Enter a number: \"))\n",
        "\n",
        "\n",
        "result = check_number(number)\n",
        "print(result)\n"
      ]
    },
    {
      "cell_type": "code",
      "execution_count": null,
      "id": "4dc6d14b-6d22-4348-859a-2a03f9be65f7",
      "metadata": {
        "id": "4dc6d14b-6d22-4348-859a-2a03f9be65f7",
        "colab": {
          "base_uri": "https://localhost:8080/"
        },
        "outputId": "2e77cd36-f553-49e4-fc33-76959e03c324"
      },
      "outputs": [
        {
          "output_type": "stream",
          "name": "stdout",
          "text": [
            "Enter the first number: 12\n",
            "Enter the second number: 11\n",
            "Enter the third number: 10\n",
            "The maximum number is: 12.0\n"
          ]
        }
      ],
      "source": [
        "# Write a Python program to find the maximum of three numbers. (User input for the numbers)\n",
        "\n",
        "def find_max(num1, num2, num3):\n",
        "    if (num1 >= num2) and (num1 >= num3):\n",
        "        return num1\n",
        "    elif (num2 >= num1) and (num2 >= num3):\n",
        "        return num2\n",
        "    else:\n",
        "        return num3\n",
        "\n",
        "\n",
        "num1 = float(input(\"Enter the first number: \"))\n",
        "num2 = float(input(\"Enter the second number: \"))\n",
        "num3 = float(input(\"Enter the third number: \"))\n",
        "\n",
        "\n",
        "max_num = find_max(num1, num2, num3)\n",
        "\n",
        "\n",
        "print(\"The maximum number is:\", max_num)\n"
      ]
    },
    {
      "cell_type": "code",
      "execution_count": null,
      "id": "3f6d1f45-eb68-4142-89d6-510046f21879",
      "metadata": {
        "id": "3f6d1f45-eb68-4142-89d6-510046f21879",
        "colab": {
          "base_uri": "https://localhost:8080/"
        },
        "outputId": "365cdbd2-2258-4a73-9ab3-dc2f8352f7a5"
      },
      "outputs": [
        {
          "output_type": "stream",
          "name": "stdout",
          "text": [
            "Enter a year: 2004\n",
            "2004 is a leap year.\n"
          ]
        }
      ],
      "source": [
        "# Write a Python program to check if a year is a leap year. (User input for the year)\n",
        "\n",
        "def is_leap_year(year):\n",
        "    if (year % 4 == 0):\n",
        "        if (year % 100 == 0):\n",
        "            if (year % 400 == 0):\n",
        "                return True\n",
        "            else:\n",
        "                return False\n",
        "        else:\n",
        "            return True\n",
        "    else:\n",
        "        return False\n",
        "\n",
        "\n",
        "year = int(input(\"Enter a year: \"))\n",
        "\n",
        "\n",
        "if is_leap_year(year):\n",
        "    print(f\"{year} is a leap year.\")\n",
        "else:\n",
        "    print(f\"{year} is not a leap year.\")\n"
      ]
    },
    {
      "cell_type": "code",
      "execution_count": null,
      "id": "b6a07105-6fa5-4f70-b64b-ebd66afc3c2b",
      "metadata": {
        "id": "b6a07105-6fa5-4f70-b64b-ebd66afc3c2b",
        "colab": {
          "base_uri": "https://localhost:8080/"
        },
        "outputId": "bc38cd34-043b-4e13-e5ed-1e41132e5fff"
      },
      "outputs": [
        {
          "output_type": "stream",
          "name": "stdout",
          "text": [
            "Enter a number: 11\n",
            "11 is not divisible by both 3 and 5.\n"
          ]
        }
      ],
      "source": [
        "# Write a Python program to check if a number is divisible by both 3 and 5. (User input for the number)\n",
        "\n",
        "def is_divisible_by_3_and_5(number):\n",
        "    return number % 3 == 0 and number % 5 == 0\n",
        "\n",
        "\n",
        "number = int(input(\"Enter a number: \"))\n",
        "\n",
        "\n",
        "if is_divisible_by_3_and_5(number):\n",
        "    print(f\"{number} is divisible by both 3 and 5.\")\n",
        "else:\n",
        "    print(f\"{number} is not divisible by both 3 and 5.\")\n"
      ]
    },
    {
      "cell_type": "code",
      "execution_count": null,
      "id": "d10c9005-b85d-42f9-81d0-65d149415888",
      "metadata": {
        "id": "d10c9005-b85d-42f9-81d0-65d149415888",
        "colab": {
          "base_uri": "https://localhost:8080/"
        },
        "outputId": "41c42118-42df-4bcc-9ba4-c13cea395d85"
      },
      "outputs": [
        {
          "output_type": "stream",
          "name": "stdout",
          "text": [
            "Enter a string: ammu\n",
            "'ammu' is not a palindrome.\n"
          ]
        }
      ],
      "source": [
        "# Write a Python program to check if a string is a palindrome. (User input for the string)\n",
        "def is_palindrome(s):\n",
        "\n",
        "    s = s.replace(\" \", \"\").lower()\n",
        "\n",
        "    return s == s[::-1]\n",
        "\n",
        "\n",
        "user_input = input(\"Enter a string: \")\n",
        "\n",
        "\n",
        "if is_palindrome(user_input):\n",
        "    print(f\"'{user_input}' is a palindrome.\")\n",
        "else:\n",
        "    print(f\"'{user_input}' is not a palindrome.\")\n"
      ]
    },
    {
      "cell_type": "code",
      "execution_count": null,
      "id": "82d76cdf-efc6-45c6-ab09-9d1f17b3d857",
      "metadata": {
        "id": "82d76cdf-efc6-45c6-ab09-9d1f17b3d857",
        "colab": {
          "base_uri": "https://localhost:8080/"
        },
        "outputId": "2b393394-6d05-438e-ca47-1e8aca63bdbb"
      },
      "outputs": [
        {
          "output_type": "stream",
          "name": "stdout",
          "text": [
            "1\n",
            "2\n",
            "3\n",
            "4\n",
            "5\n",
            "6\n",
            "7\n",
            "8\n",
            "9\n",
            "10\n"
          ]
        }
      ],
      "source": [
        "# Write a Python program to print numbers from 1 to 10 using a for loop.\n",
        "for i in range(1, 11):\n",
        "    print(i)\n"
      ]
    },
    {
      "cell_type": "code",
      "execution_count": null,
      "id": "d09e8994-e984-4c12-ab1e-1bfc6938a389",
      "metadata": {
        "id": "d09e8994-e984-4c12-ab1e-1bfc6938a389",
        "colab": {
          "base_uri": "https://localhost:8080/"
        },
        "outputId": "f921dfbd-b8db-470c-b351-56ad54758997"
      },
      "outputs": [
        {
          "output_type": "stream",
          "name": "stdout",
          "text": [
            "2\n",
            "4\n",
            "6\n",
            "8\n",
            "10\n",
            "12\n",
            "14\n",
            "16\n",
            "18\n",
            "20\n"
          ]
        }
      ],
      "source": [
        "# Write a Python program to print all even numbers from 1 to 20 using a while loop.\n",
        "\n",
        "num = 1\n",
        "\n",
        "\n",
        "while num <= 20:\n",
        "\n",
        "    if num % 2 == 0:\n",
        "\n",
        "        print(num)\n",
        "\n",
        "    num += 1\n"
      ]
    },
    {
      "cell_type": "code",
      "execution_count": null,
      "id": "c09ca878-167e-49ca-97f0-247a43c9b472",
      "metadata": {
        "id": "c09ca878-167e-49ca-97f0-247a43c9b472",
        "colab": {
          "base_uri": "https://localhost:8080/"
        },
        "outputId": "6f1d386e-e723-45be-8eb6-2974ab111f52"
      },
      "outputs": [
        {
          "output_type": "stream",
          "name": "stdout",
          "text": [
            "Enter the number: 20\n",
            "Multiplication table for 20:\n",
            "20 x 1 = 20\n",
            "20 x 2 = 40\n",
            "20 x 3 = 60\n",
            "20 x 4 = 80\n",
            "20 x 5 = 100\n",
            "20 x 6 = 120\n",
            "20 x 7 = 140\n",
            "20 x 8 = 160\n",
            "20 x 9 = 180\n",
            "20 x 10 = 200\n"
          ]
        }
      ],
      "source": [
        "# he Write a Python program to print the multiplication table of a given number using a for loop. (User input for tnumber)\n",
        "\n",
        "number = int(input(\"Enter the number: \"))\n",
        "\n",
        "\n",
        "print(f\"Multiplication table for {number}:\")\n",
        "for i in range(1, 11):\n",
        "    print(f\"{number} x {i} = {number * i}\")\n"
      ]
    },
    {
      "cell_type": "code",
      "execution_count": null,
      "id": "b72118ab-e62d-4af9-bcec-e1cc6af31b25",
      "metadata": {
        "id": "b72118ab-e62d-4af9-bcec-e1cc6af31b25",
        "colab": {
          "base_uri": "https://localhost:8080/"
        },
        "outputId": "e5b7b5bf-b289-4cb3-bf3d-8d7c44425222"
      },
      "outputs": [
        {
          "output_type": "stream",
          "name": "stdout",
          "text": [
            "Enter a positive integer: 2\n",
            "The sum of all numbers from 1 to 2 is 3\n"
          ]
        }
      ],
      "source": [
        "# Write a Python program to calculate the sum of all numbers from 1 to n using a while loop. (User input for n)\n",
        "\n",
        "\n",
        "\n",
        "n = int(input(\"Enter a positive integer: \"))\n",
        "\n",
        "sum = 0\n",
        "i = 1\n",
        "\n",
        "\n",
        "while i <= n:\n",
        "    sum += i\n",
        "    i += 1\n",
        "\n",
        "\n",
        "print(f\"The sum of all numbers from 1 to {n} is {sum}\")\n"
      ]
    },
    {
      "cell_type": "code",
      "execution_count": null,
      "id": "ae93621f-11a2-40b7-97bc-3002f03ac36a",
      "metadata": {
        "id": "ae93621f-11a2-40b7-97bc-3002f03ac36a",
        "colab": {
          "base_uri": "https://localhost:8080/"
        },
        "outputId": "c0d8b144-77be-40f9-b781-06415f801e7d"
      },
      "outputs": [
        {
          "output_type": "stream",
          "name": "stdout",
          "text": [
            "Enter a number: 2\n",
            "Factorial = 2\n"
          ]
        }
      ],
      "source": [
        "# Write a Python program to calculate the factorial of a number using a while loop. (User input for the number)\n",
        "\n",
        "\n",
        "\n",
        "num = int(input(\"Enter a number: \"))\n",
        "\n",
        "factorial = 1\n",
        "\n",
        "\n",
        "while num > 0:\n",
        "    factorial *= num\n",
        "    num -= 1\n",
        "\n",
        "\n",
        "print(\"Factorial =\", factorial)\n"
      ]
    },
    {
      "cell_type": "code",
      "execution_count": null,
      "id": "68467ccc-d696-4ef1-84c4-164c9d87f755",
      "metadata": {
        "id": "68467ccc-d696-4ef1-84c4-164c9d87f755",
        "colab": {
          "base_uri": "https://localhost:8080/"
        },
        "outputId": "bff17fb2-2e9d-4b10-b69d-d4beb548c82b"
      },
      "outputs": [
        {
          "output_type": "stream",
          "name": "stdout",
          "text": [
            "How many terms? 2\n",
            "Fibonacci sequence:\n",
            "0\n",
            "1\n"
          ]
        }
      ],
      "source": [
        "# Write a Python program to print the Fibonacci sequence up to n terms. (User input for n)\n",
        "\n",
        "\n",
        "\n",
        "nterms = int(input(\"How many terms? \"))\n",
        "\n",
        "\n",
        "n1, n2 = 0, 1\n",
        "count = 0\n",
        "\n",
        "\n",
        "if nterms <= 0:\n",
        "    print(\"Please enter a positive integer\")\n",
        "elif nterms == 1:\n",
        "    print(\"Fibonacci sequence up to\", nterms, \":\")\n",
        "    print(n1)\n",
        "else:\n",
        "    print(\"Fibonacci sequence:\")\n",
        "    while count < nterms:\n",
        "        print(n1)\n",
        "        nth = n1 + n2\n",
        "\n",
        "        n1 = n2\n",
        "        n2 = nth\n",
        "        count += 1\n"
      ]
    },
    {
      "cell_type": "code",
      "execution_count": null,
      "id": "5bebd1f3-2606-4102-aa55-01cb1650f632",
      "metadata": {
        "id": "5bebd1f3-2606-4102-aa55-01cb1650f632",
        "colab": {
          "base_uri": "https://localhost:8080/"
        },
        "outputId": "5902ec95-643a-4f27-d15e-cef6649156b9"
      },
      "outputs": [
        {
          "output_type": "stream",
          "name": "stdout",
          "text": [
            "[2, 3, 5, 7, 11, 13, 17, 19, 23, 29, 31, 37, 41, 43, 47, 53, 59, 61, 67, 71, 73, 79, 83, 89, 97]\n"
          ]
        }
      ],
      "source": [
        "# Write a Python program to find all the prime numbers from 1 to 100.\n",
        "def is_prime(num):\n",
        "    if num < 2:\n",
        "        return False\n",
        "    for i in range(2, int(num**0.5) + 1):\n",
        "        if num % i == 0:\n",
        "            return False\n",
        "    return True\n",
        "\n",
        "prime_numbers = [num for num in range(1, 101) if is_prime(num)]\n",
        "print(prime_numbers)\n"
      ]
    },
    {
      "cell_type": "code",
      "execution_count": null,
      "id": "0a3f894e-52ba-4c0b-9158-a70f31f4fd49",
      "metadata": {
        "id": "0a3f894e-52ba-4c0b-9158-a70f31f4fd49",
        "colab": {
          "base_uri": "https://localhost:8080/"
        },
        "outputId": "8c5281c4-9e47-4484-e2da-8cf446146493"
      },
      "outputs": [
        {
          "output_type": "stream",
          "name": "stdout",
          "text": [
            "Current number: 10\n",
            "Current number: 20\n",
            "Current number: 30\n",
            "Current number: 40\n",
            "Found a number greater than 50: 55\n"
          ]
        }
      ],
      "source": [
        "# Write a Python program that breaks out of a loop when a specific condition is met (e.g., when a number greater than 50 is found).\n",
        "numbers = [10, 20, 30, 40, 55, 60, 70]\n",
        "\n",
        "for number in numbers:\n",
        "    if number > 50:\n",
        "        print(f\"Found a number greater than 50: {number}\")\n",
        "        break\n",
        "    print(f\"Current number: {number}\")\n"
      ]
    },
    {
      "cell_type": "code",
      "execution_count": null,
      "id": "499b91d0-1f1b-494f-af2b-8cc3a06d90ed",
      "metadata": {
        "id": "499b91d0-1f1b-494f-af2b-8cc3a06d90ed",
        "colab": {
          "base_uri": "https://localhost:8080/"
        },
        "outputId": "bb59bc34-6755-4aa3-9ae6-535660d23997"
      },
      "outputs": [
        {
          "output_type": "stream",
          "name": "stdout",
          "text": [
            "1\n",
            "3\n",
            "5\n",
            "7\n",
            "9\n",
            "11\n",
            "13\n",
            "15\n",
            "17\n",
            "19\n"
          ]
        }
      ],
      "source": [
        "# Write a Python program to skip even numbers while printing numbers from 1 to 20 using a for loop.\n",
        "for number in range(1, 21):\n",
        "    if number % 2 == 0:\n",
        "        continue\n",
        "    print(number)\n"
      ]
    },
    {
      "cell_type": "code",
      "execution_count": 23,
      "id": "01f976ed-4dcd-4842-ae84-d3b5cc42d011",
      "metadata": {
        "id": "01f976ed-4dcd-4842-ae84-d3b5cc42d011",
        "outputId": "bc612da1-f5b7-4251-e818-294a496afebb",
        "colab": {
          "base_uri": "https://localhost:8080/"
        }
      },
      "outputs": [
        {
          "output_type": "stream",
          "name": "stdout",
          "text": [
            "Enter a number: 23\n",
            "The sum of the digits of 23 is 5\n"
          ]
        }
      ],
      "source": [
        "# Write a Python program to calculate the sum of digits of a number. (User input for the number)\n",
        "def sum_of_digits(number):\n",
        "    total = 0\n",
        "    while number > 0:\n",
        "        total += number % 10\n",
        "        number = number // 10\n",
        "    return total\n",
        "\n",
        "number = int(input(\"Enter a number: \"))\n",
        "print(f\"The sum of the digits of {number} is {sum_of_digits(number)}\")\n"
      ]
    },
    {
      "cell_type": "markdown",
      "id": "fe644fae-f262-48dd-b7ff-08eb747d297e",
      "metadata": {
        "id": "fe644fae-f262-48dd-b7ff-08eb747d297e"
      },
      "source": [
        "## Data Structures (Lists, Tuples, Sets, Dictionaries)"
      ]
    },
    {
      "cell_type": "code",
      "execution_count": 25,
      "id": "a0333c26-8e19-4c71-9722-d32cf8625ef6",
      "metadata": {
        "id": "a0333c26-8e19-4c71-9722-d32cf8625ef6",
        "outputId": "068c1181-a392-4090-c89c-b75afc370357",
        "colab": {
          "base_uri": "https://localhost:8080/",
          "height": 211
        }
      },
      "outputs": [
        {
          "output_type": "error",
          "ename": "TypeError",
          "evalue": "'int' object is not callable",
          "traceback": [
            "\u001b[0;31m---------------------------------------------------------------------------\u001b[0m",
            "\u001b[0;31mTypeError\u001b[0m                                 Traceback (most recent call last)",
            "\u001b[0;32m<ipython-input-25-8d057847721a>\u001b[0m in \u001b[0;36m<cell line: 7>\u001b[0;34m()\u001b[0m\n\u001b[1;32m      5\u001b[0m \u001b[0;34m\u001b[0m\u001b[0m\n\u001b[1;32m      6\u001b[0m \u001b[0;34m\u001b[0m\u001b[0m\n\u001b[0;32m----> 7\u001b[0;31m \u001b[0mtotal_sum\u001b[0m \u001b[0;34m=\u001b[0m \u001b[0msum\u001b[0m\u001b[0;34m(\u001b[0m\u001b[0mnumbers\u001b[0m\u001b[0;34m)\u001b[0m\u001b[0;34m\u001b[0m\u001b[0;34m\u001b[0m\u001b[0m\n\u001b[0m\u001b[1;32m      8\u001b[0m \u001b[0;34m\u001b[0m\u001b[0m\n\u001b[1;32m      9\u001b[0m \u001b[0;34m\u001b[0m\u001b[0m\n",
            "\u001b[0;31mTypeError\u001b[0m: 'int' object is not callable"
          ]
        }
      ],
      "source": [
        "# Write a Python program to create a list of integers and print the sum of the elements.\n",
        "\n",
        "\n",
        "numbers = [1, 2, 3, 4, 5]\n",
        "\n",
        "\n",
        "total_sum = sum(numbers)\n",
        "\n",
        "\n",
        "print(\"The sum of the elements in the list is:\", total_sum)\n",
        "\n"
      ]
    },
    {
      "cell_type": "code",
      "execution_count": 26,
      "id": "5a23046d-80b0-4f8d-a02f-4e3d833c0443",
      "metadata": {
        "id": "5a23046d-80b0-4f8d-a02f-4e3d833c0443",
        "outputId": "a8af1577-4e92-4860-ca81-2b5cb9f6c0ea",
        "colab": {
          "base_uri": "https://localhost:8080/"
        }
      },
      "outputs": [
        {
          "output_type": "stream",
          "name": "stdout",
          "text": [
            "The largest element in the list is: 99\n"
          ]
        }
      ],
      "source": [
        "# Write a Python program to find the largest element in a list.\n",
        "\n",
        "def find_largest_element(lst):\n",
        "\n",
        "    largest = lst[0]\n",
        "\n",
        "\n",
        "    for element in lst:\n",
        "        if element > largest:\n",
        "            largest = element\n",
        "\n",
        "    return largest\n",
        "\n",
        "\n",
        "numbers = [10, 24, 45, 99, 67, 89]\n",
        "print(\"The largest element in the list is:\", find_largest_element(numbers))\n"
      ]
    },
    {
      "cell_type": "code",
      "execution_count": null,
      "id": "9939c2d2-90fd-4e80-81bc-227c72e60e37",
      "metadata": {
        "id": "9939c2d2-90fd-4e80-81bc-227c72e60e37"
      },
      "outputs": [],
      "source": []
    },
    {
      "cell_type": "code",
      "execution_count": 27,
      "id": "aa287db8-057b-48d4-a6d8-18cc53eb7178",
      "metadata": {
        "id": "aa287db8-057b-48d4-a6d8-18cc53eb7178",
        "outputId": "6ac383c5-3d53-4ece-f084-b10b112e42cb",
        "colab": {
          "base_uri": "https://localhost:8080/"
        }
      },
      "outputs": [
        {
          "output_type": "stream",
          "name": "stdout",
          "text": [
            "Original list: [1, 2, 3, 4, 2, 2, 3]\n",
            "List after removing all occurrences of 2 : [1, 3, 4, 3]\n"
          ]
        }
      ],
      "source": [
        "# Write a Python program to remove all occurrences of a specific element from a list.\n",
        "def remove_all_occurrences(lst, element):\n",
        "    return [x for x in lst if x != element]\n",
        "\n",
        "\n",
        "my_list = [1, 2, 3, 4, 2, 2, 3]\n",
        "element_to_remove = 2\n",
        "new_list = remove_all_occurrences(my_list, element_to_remove)\n",
        "print(\"Original list:\", my_list)\n",
        "print(\"List after removing all occurrences of\", element_to_remove, \":\", new_list)\n"
      ]
    },
    {
      "cell_type": "code",
      "execution_count": 28,
      "id": "da9ba926-0ab5-46e9-b66d-128088c3225b",
      "metadata": {
        "id": "da9ba926-0ab5-46e9-b66d-128088c3225b",
        "outputId": "3be66b63-36c9-4db6-fa15-969017e143c8",
        "colab": {
          "base_uri": "https://localhost:8080/"
        }
      },
      "outputs": [
        {
          "output_type": "stream",
          "name": "stdout",
          "text": [
            "The index of 'cherry' is: 2\n"
          ]
        }
      ],
      "source": [
        "# Write a Python program to find the index of an element in a list.\n",
        "\n",
        "my_list = ['apple', 'banana', 'cherry', 'date']\n",
        "\n",
        "\n",
        "element = 'cherry'\n",
        "\n",
        "\n",
        "try:\n",
        "    index = my_list.index(element)\n",
        "    print(f\"The index of '{element}' is: {index}\")\n",
        "except ValueError:\n",
        "    print(f\"'{element}' is not in the list.\")\n"
      ]
    },
    {
      "cell_type": "code",
      "execution_count": 29,
      "id": "9601b6e4-cb90-4e1f-87b4-38ed37076e0d",
      "metadata": {
        "id": "9601b6e4-cb90-4e1f-87b4-38ed37076e0d",
        "outputId": "85e34c9a-f921-41b4-863a-c59702ad9924",
        "colab": {
          "base_uri": "https://localhost:8080/"
        }
      },
      "outputs": [
        {
          "output_type": "stream",
          "name": "stdout",
          "text": [
            "Element found!\n"
          ]
        }
      ],
      "source": [
        "# Write a Python program to find if a specific element exists in a list.\n",
        "\n",
        "my_list = [1, 2, 3, 4, 5]\n",
        "\n",
        "\n",
        "element = 3\n",
        "\n",
        "\n",
        "if element in my_list:\n",
        "    print(\"Element found!\")\n",
        "else:\n",
        "    print(\"Element not found.\")\n"
      ]
    },
    {
      "cell_type": "code",
      "execution_count": 30,
      "id": "9d8e7311-81de-4da2-826c-c4dcad28ed9f",
      "metadata": {
        "id": "9d8e7311-81de-4da2-826c-c4dcad28ed9f",
        "outputId": "7102bc6b-554f-45a6-8c49-e45a9f4502be",
        "colab": {
          "base_uri": "https://localhost:8080/"
        }
      },
      "outputs": [
        {
          "output_type": "stream",
          "name": "stdout",
          "text": [
            "[1, 2, 3, 4, 5]\n"
          ]
        }
      ],
      "source": [
        "# Write a Python program to remove duplicates from a list.\n",
        "def remove_duplicates(input_list):\n",
        "\n",
        "    return list(dict.fromkeys(input_list))\n",
        "\n",
        "\n",
        "my_list = [1, 2, 2, 3, 4, 4, 5]\n",
        "unique_list = remove_duplicates(my_list)\n",
        "print(unique_list)\n"
      ]
    },
    {
      "cell_type": "code",
      "execution_count": 31,
      "id": "09e5121b-97b3-42e4-8025-f28f3470681b",
      "metadata": {
        "id": "09e5121b-97b3-42e4-8025-f28f3470681b",
        "outputId": "0cff8df8-987d-42a8-b863-d168d197a42e",
        "colab": {
          "base_uri": "https://localhost:8080/"
        }
      },
      "outputs": [
        {
          "output_type": "stream",
          "name": "stdout",
          "text": [
            "'a' occurs 3 times in the list.\n"
          ]
        }
      ],
      "source": [
        "# Write a Python program to count the occurrences of an element in a list.\n",
        "\n",
        "items = ['a', 'b', 'a', 'c', 'd', 'd', 'd', 'c', 'a', 'b']\n",
        "\n",
        "\n",
        "count_a = items.count('a')\n",
        "\n",
        "print(f\"'a' occurs {count_a} times in the list.\")\n"
      ]
    },
    {
      "cell_type": "code",
      "execution_count": 32,
      "id": "b774b741-e9a6-45db-8f00-e6d9b734d03a",
      "metadata": {
        "id": "b774b741-e9a6-45db-8f00-e6d9b734d03a",
        "outputId": "7430fd33-1337-4ccf-b3ea-8c2cadfc236e",
        "colab": {
          "base_uri": "https://localhost:8080/"
        }
      },
      "outputs": [
        {
          "output_type": "stream",
          "name": "stdout",
          "text": [
            "Number of even numbers: 5\n"
          ]
        }
      ],
      "source": [
        "# Write a Python program to get the number of even numbers in a list.\n",
        "def count_even_numbers(numbers):\n",
        "    even_count = 0\n",
        "    for number in numbers:\n",
        "        if number % 2 == 0:\n",
        "            even_count += 1\n",
        "    return even_count\n",
        "\n",
        "\n",
        "numbers = [1, 2, 3, 4, 5, 6, 7, 8, 9, 10]\n",
        "print(\"Number of even numbers:\", count_even_numbers(numbers))\n"
      ]
    },
    {
      "cell_type": "code",
      "execution_count": 33,
      "id": "5ce4fd2b-ab16-4b40-9ac2-d19c244d8d96",
      "metadata": {
        "id": "5ce4fd2b-ab16-4b40-9ac2-d19c244d8d96",
        "outputId": "de5ac544-9945-45ec-95d7-184402bb3a9d",
        "colab": {
          "base_uri": "https://localhost:8080/"
        }
      },
      "outputs": [
        {
          "output_type": "stream",
          "name": "stdout",
          "text": [
            "The created tuple is: (1, 2, 3, 'Hello', 4.5)\n"
          ]
        }
      ],
      "source": [
        "# Write a Python program to create a tuple and print it.\n",
        "\n",
        "my_tuple = (1, 2, 3, \"Hello\", 4.5)\n",
        "\n",
        "\n",
        "print(\"The created tuple is:\", my_tuple)\n"
      ]
    },
    {
      "cell_type": "code",
      "execution_count": 34,
      "id": "5c04f880-6e96-4ef4-9f4b-df21aae76ff1",
      "metadata": {
        "id": "5c04f880-6e96-4ef4-9f4b-df21aae76ff1",
        "outputId": "57b44d45-0982-499b-fe31-5ed4d48c5334",
        "colab": {
          "base_uri": "https://localhost:8080/"
        }
      },
      "outputs": [
        {
          "output_type": "stream",
          "name": "stdout",
          "text": [
            "List: [1, 2, 3, 4]\n"
          ]
        }
      ],
      "source": [
        "# Write a Python program to convert a tuple to a list and vice versa.\n",
        "\n",
        "my_tuple = (1, 2, 3, 4)\n",
        "\n",
        "\n",
        "my_list = list(my_tuple)\n",
        "\n",
        "print(\"List:\", my_list)\n"
      ]
    },
    {
      "cell_type": "markdown",
      "source": [],
      "metadata": {
        "id": "ax_KrNxJMK8J"
      },
      "id": "ax_KrNxJMK8J"
    },
    {
      "cell_type": "code",
      "execution_count": 35,
      "id": "d5192acc-27f3-456e-9c72-3b276a587bf5",
      "metadata": {
        "id": "d5192acc-27f3-456e-9c72-3b276a587bf5",
        "outputId": "c87dc900-e1ec-4537-ab83-39723961b036",
        "colab": {
          "base_uri": "https://localhost:8080/"
        }
      },
      "outputs": [
        {
          "output_type": "stream",
          "name": "stdout",
          "text": [
            "The maximum value in the tuple is: 9\n",
            "The minimum value in the tuple is: 1\n"
          ]
        }
      ],
      "source": [
        "# Write a Python program to find the maximum and minimum values in a tuple.\n",
        "\n",
        "numbers = (3, 1, 4, 1, 5, 9, 2, 6, 5, 3, 5)\n",
        "\n",
        "\n",
        "max_value = max(numbers)\n",
        "\n",
        "\n",
        "min_value = min(numbers)\n",
        "\n",
        "\n",
        "print(\"The maximum value in the tuple is:\", max_value)\n",
        "print(\"The minimum value in the tuple is:\", min_value)\n"
      ]
    },
    {
      "cell_type": "code",
      "execution_count": 36,
      "id": "43f0a340-9407-4302-af7e-4e63db578bbf",
      "metadata": {
        "id": "43f0a340-9407-4302-af7e-4e63db578bbf",
        "outputId": "69e76056-c4b3-4d37-ae28-9f84bb5e377e",
        "colab": {
          "base_uri": "https://localhost:8080/"
        }
      },
      "outputs": [
        {
          "output_type": "stream",
          "name": "stdout",
          "text": [
            "1\n",
            "2\n",
            "3\n"
          ]
        }
      ],
      "source": [
        "# Write a Python program to unpack a tuple into variables.\n",
        "\n",
        "my_tuple = (1, 2, 3)\n",
        "\n",
        "\n",
        "a, b, c = my_tuple\n",
        "\n",
        "\n",
        "print(a)  # Output: 1\n",
        "print(b)  # Output: 2\n",
        "print(c)  # Output: 3\n"
      ]
    },
    {
      "cell_type": "code",
      "execution_count": 37,
      "id": "46e96e29-2157-4b9f-bb24-0bd973eada9f",
      "metadata": {
        "id": "46e96e29-2157-4b9f-bb24-0bd973eada9f",
        "outputId": "8f2de379-604c-4dfa-a378-429bcd8ce984",
        "colab": {
          "base_uri": "https://localhost:8080/"
        }
      },
      "outputs": [
        {
          "output_type": "stream",
          "name": "stdout",
          "text": [
            "Yes, 'banana' is in the set.\n",
            "Updated set: {'banana', 'date', 'cherry', 'apple'}\n"
          ]
        }
      ],
      "source": [
        "# Write a Python program to add an element to a set and check if an element exists in the set.\n",
        "\n",
        "my_set = {\"apple\", \"banana\", \"cherry\"}\n",
        "\n",
        "\n",
        "my_set.add(\"date\")\n",
        "\n",
        "\n",
        "element_to_check = \"banana\"\n",
        "if element_to_check in my_set:\n",
        "    print(f\"Yes, '{element_to_check}' is in the set.\")\n",
        "else:\n",
        "    print(f\"No, '{element_to_check}' is not in the set.\")\n",
        "\n",
        "\n",
        "print(\"Updated set:\", my_set)\n"
      ]
    },
    {
      "cell_type": "code",
      "execution_count": 38,
      "id": "d81a803b-fd80-403e-9ae3-680ef44a3d86",
      "metadata": {
        "id": "d81a803b-fd80-403e-9ae3-680ef44a3d86",
        "outputId": "6a62f617-d545-4be9-88a4-d8b84c25686a",
        "colab": {
          "base_uri": "https://localhost:8080/"
        }
      },
      "outputs": [
        {
          "output_type": "stream",
          "name": "stdout",
          "text": [
            "{'name': 'Alice', 'age': 25, 'city': 'Hyderabad'}\n"
          ]
        }
      ],
      "source": [
        "# Write a Python program to create a dictionary with keys and values and print it.\n",
        "\n",
        "my_dictionary = {\n",
        "    \"name\": \"Alice\",\n",
        "    \"age\": 25,\n",
        "    \"city\": \"Hyderabad\"\n",
        "}\n",
        "\n",
        "\n",
        "print(my_dictionary)\n"
      ]
    },
    {
      "cell_type": "code",
      "execution_count": 39,
      "id": "7432174b-fe75-4371-b23a-e2c5d62edb15",
      "metadata": {
        "id": "7432174b-fe75-4371-b23a-e2c5d62edb15",
        "outputId": "6308426f-477d-4733-ad04-8a173dc2f4c0",
        "colab": {
          "base_uri": "https://localhost:8080/"
        }
      },
      "outputs": [
        {
          "output_type": "stream",
          "name": "stdout",
          "text": [
            "Name: Alice\n",
            "Age: 25\n"
          ]
        }
      ],
      "source": [
        "# Write a Python program to access a dictionary value using a key.\n",
        "\n",
        "my_dict = {\n",
        "    'name': 'Alice',\n",
        "    'age': 25,\n",
        "    'city': 'Hyderabad'\n",
        "}\n",
        "\n",
        "\n",
        "name_value = my_dict['name']\n",
        "age_value = my_dict.get('age')\n",
        "\n",
        "\n",
        "print(f\"Name: {name_value}\")\n",
        "print(f\"Age: {age_value}\")\n"
      ]
    },
    {
      "cell_type": "code",
      "execution_count": 40,
      "id": "000b3260-d91f-41f2-9729-4b0124f2c4d2",
      "metadata": {
        "id": "000b3260-d91f-41f2-9729-4b0124f2c4d2",
        "outputId": "ec061a01-02b7-485d-c852-78c46f06fec5",
        "colab": {
          "base_uri": "https://localhost:8080/"
        }
      },
      "outputs": [
        {
          "output_type": "stream",
          "name": "stdout",
          "text": [
            "Enter key to check: 2\n",
            "Key '2' isn't present in the dictionary.\n"
          ]
        }
      ],
      "source": [
        "# Write a Python program to check if a key exists in a dictionary.\n",
        "\n",
        "my_dict = {'A': 1, 'B': 2, 'C': 3}\n",
        "\n",
        "\n",
        "key = input(\"Enter key to check: \")\n",
        "\n",
        "\n",
        "if key in my_dict:\n",
        "    print(f\"Key '{key}' is present and its value is: {my_dict[key]}\")\n",
        "else:\n",
        "    print(f\"Key '{key}' isn't present in the dictionary.\")\n"
      ]
    },
    {
      "cell_type": "code",
      "execution_count": 41,
      "id": "c4b1a942-818e-42c1-b742-1fabe80fca6d",
      "metadata": {
        "id": "c4b1a942-818e-42c1-b742-1fabe80fca6d",
        "outputId": "b8ca3581-ee24-4f30-ea12-2075759058ad",
        "colab": {
          "base_uri": "https://localhost:8080/"
        }
      },
      "outputs": [
        {
          "output_type": "stream",
          "name": "stdout",
          "text": [
            "{'a': 1, 'b': 2, 'c': 3, 'd': 4}\n"
          ]
        }
      ],
      "source": [
        "# Write a Python program to merge two dictionaries.\n",
        "dict1 = {'a': 1, 'b': 2}\n",
        "dict2 = {'c': 3, 'd': 4}\n",
        "\n",
        "merged_dict = dict1 | dict2\n",
        "print(merged_dict)\n"
      ]
    },
    {
      "cell_type": "code",
      "execution_count": 42,
      "id": "a78f1070-3ff3-436a-8391-153f019f53cd",
      "metadata": {
        "id": "a78f1070-3ff3-436a-8391-153f019f53cd",
        "outputId": "3410ba6b-6e03-4462-94ab-be72ac4d628b",
        "colab": {
          "base_uri": "https://localhost:8080/"
        }
      },
      "outputs": [
        {
          "output_type": "stream",
          "name": "stdout",
          "text": [
            "Using pop(): {'name': 'Alice', 'city': 'New York'}\n",
            "Using del: {'name': 'Alice', 'city': 'New York'}\n",
            "Using popitem(): {'name': 'Alice', 'age': 25}\n"
          ]
        }
      ],
      "source": [
        "# Write a Python program to remove a key from a dictionary.\n",
        "\n",
        "my_dict = {'name': 'Alice', 'age': 25, 'city': 'New York'}\n",
        "removed_value = my_dict.pop('age')\n",
        "print(\"Using pop():\", my_dict)\n",
        "\n",
        "\n",
        "my_dict = {'name': 'Alice', 'age': 25, 'city': 'New York'}\n",
        "del my_dict['age']\n",
        "print(\"Using del:\", my_dict)\n",
        "\n",
        "\n",
        "my_dict = {'name': 'Alice', 'age': 25, 'city': 'New York'}\n",
        "my_dict.popitem()\n",
        "print(\"Using popitem():\", my_dict)\n"
      ]
    },
    {
      "cell_type": "code",
      "execution_count": 43,
      "id": "fcba0267-8cc4-4e89-9e78-2d820916c177",
      "metadata": {
        "id": "fcba0267-8cc4-4e89-9e78-2d820916c177",
        "outputId": "5700e4ef-d33c-4c6d-f8b9-6b594c1c1183",
        "colab": {
          "base_uri": "https://localhost:8080/"
        }
      },
      "outputs": [
        {
          "output_type": "stream",
          "name": "stdout",
          "text": [
            "Number of keys in the dictionary: 4\n"
          ]
        }
      ],
      "source": [
        "# Write a Python program to get the number of keys in a dictionary.\n",
        "\n",
        "my_dict = {\n",
        "    'name': 'Alice',\n",
        "    'age': 30,\n",
        "    'city': 'Hyderabad',\n",
        "    'profession': 'Engineer'\n",
        "}\n",
        "\n",
        "\n",
        "num_keys = len(my_dict)\n",
        "\n",
        "\n",
        "print(\"Number of keys in the dictionary:\", num_keys)\n"
      ]
    },
    {
      "cell_type": "code",
      "execution_count": 44,
      "id": "d4c5fd77-9656-43e5-8fe2-be7dca23eb6d",
      "metadata": {
        "id": "d4c5fd77-9656-43e5-8fe2-be7dca23eb6d",
        "outputId": "82e099fb-6579-49ef-a4c4-6ce1ce195a9d",
        "colab": {
          "base_uri": "https://localhost:8080/"
        }
      },
      "outputs": [
        {
          "output_type": "stream",
          "name": "stdout",
          "text": [
            "The smallest value in the dictionary is: 10\n",
            "The largest value in the dictionary is: 50\n"
          ]
        }
      ],
      "source": [
        "# Write a Python program to find the largest and smallest values in a dictionary.\n",
        "\n",
        "my_dict = {'a': 10, 'b': 50, 'c': 30, 'd': 20}\n",
        "\n",
        "min_value = min(my_dict.values())\n",
        "\n",
        "\n",
        "max_value = max(my_dict.values())\n",
        "\n",
        "print(f\"The smallest value in the dictionary is: {min_value}\")\n",
        "print(f\"The largest value in the dictionary is: {max_value}\")\n"
      ]
    },
    {
      "cell_type": "markdown",
      "id": "7830b8cc-9a90-45a2-8e4a-6f3c2b8b133b",
      "metadata": {
        "id": "7830b8cc-9a90-45a2-8e4a-6f3c2b8b133b"
      },
      "source": [
        "## Functions (User-Defined, Arguments, Keyword Arguments, Return Values)"
      ]
    },
    {
      "cell_type": "code",
      "execution_count": 45,
      "id": "06a33fba-c6b1-4989-90f4-b647d1fe1627",
      "metadata": {
        "id": "06a33fba-c6b1-4989-90f4-b647d1fe1627",
        "outputId": "78c5a477-8866-4f3c-8bba-92d8c60894ec",
        "colab": {
          "base_uri": "https://localhost:8080/"
        }
      },
      "outputs": [
        {
          "output_type": "stream",
          "name": "stdout",
          "text": [
            "25\n"
          ]
        }
      ],
      "source": [
        "# Write a Python function that returns the square of a number.\n",
        "def square(number):\n",
        "    return number ** 2\n",
        "\n",
        "\n",
        "result = square(5)\n",
        "print(result)\n"
      ]
    },
    {
      "cell_type": "code",
      "execution_count": 46,
      "id": "91d90a4a-7329-45db-893b-caed8450ba96",
      "metadata": {
        "id": "91d90a4a-7329-45db-893b-caed8450ba96"
      },
      "outputs": [],
      "source": [
        "# Write a Python function that accepts two parameters and returns their sum.\n",
        "def add_numbers(a, b):\n",
        "    return a + b\n"
      ]
    },
    {
      "cell_type": "code",
      "execution_count": 47,
      "id": "dec2f9a5-90c5-478b-890b-0a506ecf45d3",
      "metadata": {
        "id": "dec2f9a5-90c5-478b-890b-0a506ecf45d3",
        "outputId": "d92284dc-9ea8-40da-e02a-fd7d22e88695",
        "colab": {
          "base_uri": "https://localhost:8080/"
        }
      },
      "outputs": [
        {
          "output_type": "stream",
          "name": "stdout",
          "text": [
            "True\n",
            "False\n"
          ]
        }
      ],
      "source": [
        "# Write a Python function to check if a given number is prime.\n",
        "import math\n",
        "\n",
        "def is_prime(n):\n",
        "    if n <= 1:\n",
        "        return False\n",
        "    for i in range(2, int(math.sqrt(n)) + 1):\n",
        "        if n % i == 0:\n",
        "            return False\n",
        "    return True\n",
        "\n",
        "\n",
        "print(is_prime(29))\n",
        "print(is_prime(28))\n"
      ]
    },
    {
      "cell_type": "code",
      "execution_count": 48,
      "id": "56337441-68c3-45df-8733-a34cde0533a5",
      "metadata": {
        "id": "56337441-68c3-45df-8733-a34cde0533a5",
        "outputId": "c26965a5-e108-403a-8efc-dec33b96025d",
        "colab": {
          "base_uri": "https://localhost:8080/"
        }
      },
      "outputs": [
        {
          "output_type": "stream",
          "name": "stdout",
          "text": [
            "The factorial of 5 is 120\n"
          ]
        }
      ],
      "source": [
        "# Write a Python function to calculate the factorial of a number using recursion.\n",
        "def factorial(n):\n",
        "\n",
        "    if n == 0 or n == 1:\n",
        "        return 1\n",
        "    else:\n",
        "\n",
        "        return n * factorial(n - 1)\n",
        "\n",
        "\n",
        "number = 5\n",
        "print(f\"The factorial of {number} is {factorial(number)}\")\n"
      ]
    },
    {
      "cell_type": "code",
      "execution_count": 49,
      "id": "84a2d010-e7b2-409b-b1f4-99bf806bb77a",
      "metadata": {
        "id": "84a2d010-e7b2-409b-b1f4-99bf806bb77a",
        "outputId": "14727e97-b794-4ad3-963a-7a91492c1bf3",
        "colab": {
          "base_uri": "https://localhost:8080/"
        }
      },
      "outputs": [
        {
          "output_type": "stream",
          "name": "stdout",
          "text": [
            "Enter the base: 2\n",
            "Enter the exponent: 3\n",
            "2 raised to the power of 3 is 8\n"
          ]
        }
      ],
      "source": [
        "# Write a Python function to calculate the power of a number using recursion.\n",
        "def power(base, exp):\n",
        "\n",
        "    if exp == 0:\n",
        "        return 1\n",
        "\n",
        "    else:\n",
        "        return base * power(base, exp - 1)\n",
        "\n",
        "\n",
        "base = int(input(\"Enter the base: \"))\n",
        "exp = int(input(\"Enter the exponent: \"))\n",
        "result = power(base, exp)\n",
        "print(f\"{base} raised to the power of {exp} is {result}\")\n"
      ]
    },
    {
      "cell_type": "code",
      "execution_count": 50,
      "id": "ec44911e-7820-46cc-96a3-4ca443888837",
      "metadata": {
        "id": "ec44911e-7820-46cc-96a3-4ca443888837",
        "outputId": "57c3d286-53a4-4a84-e982-491ab250e8f1",
        "colab": {
          "base_uri": "https://localhost:8080/"
        }
      },
      "outputs": [
        {
          "output_type": "stream",
          "name": "stdout",
          "text": [
            "The length of the list is: 5\n"
          ]
        }
      ],
      "source": [
        "# Write a Python function to accept a list and return its length without using the built-in len() function.\n",
        "def list_length(lst):\n",
        "    count = 0\n",
        "    for item in lst:\n",
        "        count += 1\n",
        "    return count\n",
        "\n",
        "\n",
        "my_list = [1, 2, 3, 4, 5]\n",
        "print(\"The length of the list is:\", list_length(my_list))\n"
      ]
    },
    {
      "cell_type": "code",
      "execution_count": 52,
      "id": "fb4c08e1-34f3-487a-a1c6-77cd60fb4836",
      "metadata": {
        "id": "fb4c08e1-34f3-487a-a1c6-77cd60fb4836",
        "outputId": "f7ead771-dd18-482b-ab8e-91baf7740f26",
        "colab": {
          "base_uri": "https://localhost:8080/",
          "height": 315
        }
      },
      "outputs": [
        {
          "output_type": "error",
          "ename": "TypeError",
          "evalue": "'int' object is not callable",
          "traceback": [
            "\u001b[0;31m---------------------------------------------------------------------------\u001b[0m",
            "\u001b[0;31mTypeError\u001b[0m                                 Traceback (most recent call last)",
            "\u001b[0;32m<ipython-input-52-58d4c9695ec1>\u001b[0m in \u001b[0;36m<cell line: 7>\u001b[0;34m()\u001b[0m\n\u001b[1;32m      5\u001b[0m \u001b[0;34m\u001b[0m\u001b[0m\n\u001b[1;32m      6\u001b[0m \u001b[0;34m\u001b[0m\u001b[0m\n\u001b[0;32m----> 7\u001b[0;31m \u001b[0msum_positional_args\u001b[0m\u001b[0;34m(\u001b[0m\u001b[0;36m1\u001b[0m\u001b[0;34m,\u001b[0m \u001b[0;36m2\u001b[0m\u001b[0;34m,\u001b[0m \u001b[0;36m3\u001b[0m\u001b[0;34m,\u001b[0m \u001b[0ma\u001b[0m\u001b[0;34m=\u001b[0m\u001b[0;36m4\u001b[0m\u001b[0;34m,\u001b[0m \u001b[0mb\u001b[0m\u001b[0;34m=\u001b[0m\u001b[0;36m5\u001b[0m\u001b[0;34m)\u001b[0m\u001b[0;34m\u001b[0m\u001b[0;34m\u001b[0m\u001b[0m\n\u001b[0m\u001b[1;32m      8\u001b[0m \u001b[0;34m\u001b[0m\u001b[0m\n",
            "\u001b[0;32m<ipython-input-52-58d4c9695ec1>\u001b[0m in \u001b[0;36msum_positional_args\u001b[0;34m(*args, **kwargs)\u001b[0m\n\u001b[1;32m      1\u001b[0m \u001b[0;31m# Write a Python function that accepts both positional and keyword arguments and prints the sum of positional arguments.\u001b[0m\u001b[0;34m\u001b[0m\u001b[0;34m\u001b[0m\u001b[0m\n\u001b[1;32m      2\u001b[0m \u001b[0;32mdef\u001b[0m \u001b[0msum_positional_args\u001b[0m\u001b[0;34m(\u001b[0m\u001b[0;34m*\u001b[0m\u001b[0margs\u001b[0m\u001b[0;34m,\u001b[0m \u001b[0;34m**\u001b[0m\u001b[0mkwargs\u001b[0m\u001b[0;34m)\u001b[0m\u001b[0;34m:\u001b[0m\u001b[0;34m\u001b[0m\u001b[0;34m\u001b[0m\u001b[0m\n\u001b[0;32m----> 3\u001b[0;31m     \u001b[0mtotal\u001b[0m \u001b[0;34m=\u001b[0m \u001b[0msum\u001b[0m\u001b[0;34m(\u001b[0m\u001b[0margs\u001b[0m\u001b[0;34m)\u001b[0m\u001b[0;34m\u001b[0m\u001b[0;34m\u001b[0m\u001b[0m\n\u001b[0m\u001b[1;32m      4\u001b[0m     \u001b[0mprint\u001b[0m\u001b[0;34m(\u001b[0m\u001b[0;34m\"Sum of positional arguments:\"\u001b[0m\u001b[0;34m,\u001b[0m \u001b[0mtotal\u001b[0m\u001b[0;34m)\u001b[0m\u001b[0;34m\u001b[0m\u001b[0;34m\u001b[0m\u001b[0m\n\u001b[1;32m      5\u001b[0m \u001b[0;34m\u001b[0m\u001b[0m\n",
            "\u001b[0;31mTypeError\u001b[0m: 'int' object is not callable"
          ]
        }
      ],
      "source": [
        "# Write a Python function that accepts both positional and keyword arguments and prints the sum of positional arguments.\n",
        "def sum_positional_args(*args, **kwargs):\n",
        "    total = sum(args)\n",
        "    print(\"Sum of positional arguments:\", total)\n",
        "\n",
        "\n",
        "sum_positional_args(1, 2, 3, a=4, b=5)\n",
        "\n"
      ]
    },
    {
      "cell_type": "code",
      "execution_count": 53,
      "id": "f4ffc7a8-f579-461c-b507-4085a0477283",
      "metadata": {
        "id": "f4ffc7a8-f579-461c-b507-4085a0477283",
        "outputId": "54657d1a-d5bc-48be-ae00-d2dcdcd43645",
        "colab": {
          "base_uri": "https://localhost:8080/"
        }
      },
      "outputs": [
        {
          "output_type": "stream",
          "name": "stdout",
          "text": [
            "The maximum number is: 20\n"
          ]
        }
      ],
      "source": [
        "# Write a Python function to find the maximum of two numbers using keyword arguments.\n",
        "def find_maximum(num1=0, num2=0):\n",
        "    \"\"\"\n",
        "    Function to find the maximum of two numbers using keyword arguments.\n",
        "    \"\"\"\n",
        "    return max(num1, num2)\n",
        "\n",
        "\n",
        "result = find_maximum(num1=10, num2=20)\n",
        "print(f\"The maximum number is: {result}\")\n"
      ]
    },
    {
      "cell_type": "code",
      "execution_count": 54,
      "id": "0b00c4af-89e0-43e8-a991-1b684d2ce33f",
      "metadata": {
        "id": "0b00c4af-89e0-43e8-a991-1b684d2ce33f",
        "outputId": "b5913035-4379-47e3-d316-1a24dcce5eb9",
        "colab": {
          "base_uri": "https://localhost:8080/"
        }
      },
      "outputs": [
        {
          "output_type": "stream",
          "name": "stdout",
          "text": [
            "24\n"
          ]
        }
      ],
      "source": [
        "# Write a Python function that accepts a list of numbers and returns their product.\n",
        "def product_of_list(numbers):\n",
        "    product = 1\n",
        "    for num in numbers:\n",
        "        product *= num\n",
        "    return product\n",
        "\n",
        "\n",
        "numbers = [2, 3, 4]\n",
        "result = product_of_list(numbers)\n",
        "print(result)\n"
      ]
    },
    {
      "cell_type": "code",
      "execution_count": 55,
      "id": "9cd11703-5b48-44fe-af4e-ea906a2762c9",
      "metadata": {
        "id": "9cd11703-5b48-44fe-af4e-ea906a2762c9",
        "outputId": "c8ae4e92-bf53-4a63-952b-6aec9fabc561",
        "colab": {
          "base_uri": "https://localhost:8080/"
        }
      },
      "outputs": [
        {
          "output_type": "stream",
          "name": "stdout",
          "text": [
            "7 is odd.\n"
          ]
        }
      ],
      "source": [
        "# Write a Python function to check if a number is even or odd using the modulo operator.\n",
        "def check_even_odd(number):\n",
        "    if number % 2 == 0:\n",
        "        return f\"{number} is even.\"\n",
        "    else:\n",
        "        return f\"{number} is odd.\"\n",
        "\n",
        "\n",
        "num = 7\n",
        "result = check_even_odd(num)\n",
        "print(result)\n"
      ]
    },
    {
      "cell_type": "code",
      "execution_count": 56,
      "id": "afbf262e-daed-40a9-827f-82fa60979610",
      "metadata": {
        "id": "afbf262e-daed-40a9-827f-82fa60979610",
        "outputId": "b949b646-36ec-47c9-a1bf-0604351d072a",
        "colab": {
          "base_uri": "https://localhost:8080/"
        }
      },
      "outputs": [
        {
          "output_type": "stream",
          "name": "stdout",
          "text": [
            "[1, 4, 9, 16, 25, 36, 49, 64, 81, 100]\n"
          ]
        }
      ],
      "source": [
        "# Write a Python program to create a list of squares of numbers from 1 to 10 using list comprehension.\n",
        "\n",
        "squares = [x**2 for x in range(1, 11)]\n",
        "\n",
        "\n",
        "print(squares)\n"
      ]
    },
    {
      "cell_type": "code",
      "execution_count": 57,
      "id": "7fff76d8-9ba8-4006-9be6-6f7350092d1c",
      "metadata": {
        "id": "7fff76d8-9ba8-4006-9be6-6f7350092d1c",
        "outputId": "6c2914e8-cce6-4779-e21e-77028a7ea106",
        "colab": {
          "base_uri": "https://localhost:8080/"
        }
      },
      "outputs": [
        {
          "output_type": "stream",
          "name": "stdout",
          "text": [
            "Odd numbers: [1, 3, 5, 7, 9]\n"
          ]
        }
      ],
      "source": [
        "# Write a Python program to filter out all even numbers from a list using list comprehension.\n",
        "\n",
        "numbers = [1, 2, 3, 4, 5, 6, 7, 8, 9, 10]\n",
        "\n",
        "\n",
        "odd_numbers = [num for num in numbers if num % 2 != 0]\n",
        "\n",
        "print(\"Odd numbers:\", odd_numbers)\n"
      ]
    },
    {
      "cell_type": "code",
      "execution_count": 58,
      "id": "6ae9b8df-38f9-4fd7-bad1-aa7b07cc9271",
      "metadata": {
        "id": "6ae9b8df-38f9-4fd7-bad1-aa7b07cc9271",
        "outputId": "f867aaec-7f23-4070-9b4b-5ec03175f362",
        "colab": {
          "base_uri": "https://localhost:8080/"
        }
      },
      "outputs": [
        {
          "output_type": "stream",
          "name": "stdout",
          "text": [
            "['apple', 'carrot', 'elephant']\n"
          ]
        }
      ],
      "source": [
        "# Write a Python program to create a list of strings that are longer than 4 characters from a given list of words using list comprehension.\n",
        "\n",
        "words = [\"apple\", \"bat\", \"carrot\", \"dog\", \"elephant\"]\n",
        "\n",
        "\n",
        "long_words = [word for word in words if len(word) > 4]\n",
        "\n",
        "\n",
        "print(long_words)\n"
      ]
    },
    {
      "cell_type": "code",
      "execution_count": 59,
      "id": "f492c7d4-6ad3-48ab-9b61-232be02aecee",
      "metadata": {
        "id": "f492c7d4-6ad3-48ab-9b61-232be02aecee",
        "outputId": "37d82bb6-73d2-401e-9236-70d04ef0d133",
        "colab": {
          "base_uri": "https://localhost:8080/"
        }
      },
      "outputs": [
        {
          "output_type": "stream",
          "name": "stdout",
          "text": [
            "['H', 'W', 'T', 'T', 'S']\n"
          ]
        }
      ],
      "source": [
        "# Write a Python program to create a list of all uppercase letters in a string using list comprehension.\n",
        "\n",
        "input_string = \"Hello World! This is a Test String.\"\n",
        "\n",
        "\n",
        "uppercase_letters = [char for char in input_string if char.isupper()]\n",
        "\n",
        "\n",
        "print(uppercase_letters)\n"
      ]
    },
    {
      "cell_type": "code",
      "execution_count": 60,
      "id": "929a7f74-1762-4a2a-be23-bacf67ff4d8b",
      "metadata": {
        "id": "929a7f74-1762-4a2a-be23-bacf67ff4d8b",
        "outputId": "a360d6a1-ad09-4a9b-d558-d091763587fa",
        "colab": {
          "base_uri": "https://localhost:8080/"
        }
      },
      "outputs": [
        {
          "output_type": "stream",
          "name": "stdout",
          "text": [
            "[0, 1, 1, 2, 3, 5, 8, 13, 21, 34]\n"
          ]
        }
      ],
      "source": [
        "# Write a Python program to generate the first n Fibonacci numbers using list comprehension.\n",
        "def fibonacci(n):\n",
        "    fib_sequence = [0, 1]\n",
        "    [fib_sequence.append(fib_sequence[-1] + fib_sequence[-2]) for _ in range(2, n)]\n",
        "    return fib_sequence[:n]\n",
        "\n",
        "\n",
        "n = 10\n",
        "print(fibonacci(n))\n"
      ]
    },
    {
      "cell_type": "code",
      "execution_count": 61,
      "id": "47188bbc-cf62-47bb-a14e-0582c8b5cdd9",
      "metadata": {
        "id": "47188bbc-cf62-47bb-a14e-0582c8b5cdd9",
        "outputId": "d449ddcf-6d18-41fb-d274-45570c2723ae",
        "colab": {
          "base_uri": "https://localhost:8080/"
        }
      },
      "outputs": [
        {
          "output_type": "stream",
          "name": "stdout",
          "text": [
            "{1: 1, 2: 4, 3: 9, 4: 16, 5: 25, 6: 36, 7: 49, 8: 64, 9: 81, 10: 100}\n"
          ]
        }
      ],
      "source": [
        "# Write a Python program to create a dictionary where keys are numbers and values are their squares using dictionary comprehension.\n",
        "\n",
        "n = 10\n",
        "\n",
        "\n",
        "squares_dict = {x: x**2 for x in range(1, n+1)}\n",
        "\n",
        "\n",
        "print(squares_dict)\n"
      ]
    },
    {
      "cell_type": "code",
      "execution_count": 62,
      "id": "3c4637d3-aa85-4b4c-acf3-953c10818bcb",
      "metadata": {
        "id": "3c4637d3-aa85-4b4c-acf3-953c10818bcb",
        "outputId": "fd91801c-581c-4657-f5bb-cfadbf769da1",
        "colab": {
          "base_uri": "https://localhost:8080/"
        }
      },
      "outputs": [
        {
          "output_type": "stream",
          "name": "stdout",
          "text": [
            "{'a': 1, 'b': 2, 'c': 3}\n"
          ]
        }
      ],
      "source": [
        "# Write a Python program to create a dictionary from two lists (one for keys and one for values) using dictionary comprehension.\n",
        "\n",
        "keys = ['a', 'b', 'c']\n",
        "values = [1, 2, 3]\n",
        "\n",
        "\n",
        "dictionary = {keys[i]: values[i] for i in range(len(keys))}\n",
        "\n",
        "\n",
        "print(dictionary)\n"
      ]
    },
    {
      "cell_type": "code",
      "execution_count": 63,
      "id": "de817d6f-96e7-4346-839e-1ef0df539b6b",
      "metadata": {
        "id": "de817d6f-96e7-4346-839e-1ef0df539b6b",
        "outputId": "c5abd8ac-363c-4fcc-f27a-f629d439e3cf",
        "colab": {
          "base_uri": "https://localhost:8080/"
        }
      },
      "outputs": [
        {
          "output_type": "stream",
          "name": "stdout",
          "text": [
            "{1: 1, 2: 8, 3: 27, 4: 64, 5: 125}\n"
          ]
        }
      ],
      "source": [
        "# Write a Python program to create a dictionary of numbers from 1 to 5 and their cubes using dictionary comprehension.\n",
        "\n",
        "cubes_dict = {num: num**3 for num in range(1, 6)}\n",
        "\n",
        "\n",
        "print(cubes_dict)\n"
      ]
    },
    {
      "cell_type": "code",
      "execution_count": 64,
      "id": "33695301-057e-49a6-9f80-a2f4e3af60ed",
      "metadata": {
        "id": "33695301-057e-49a6-9f80-a2f4e3af60ed",
        "outputId": "4f616c65-3707-45af-f2c6-8c7300537f68",
        "colab": {
          "base_uri": "https://localhost:8080/"
        }
      },
      "outputs": [
        {
          "output_type": "stream",
          "name": "stdout",
          "text": [
            "[16, 25, 4, 81]\n"
          ]
        }
      ],
      "source": [
        "# Write a Python program to square each element of a list using the map() function.\n",
        "\n",
        "def square_num(n):\n",
        "    return n * n\n",
        "\n",
        "\n",
        "nums = [4, 5, 2, 9]\n",
        "\n",
        "\n",
        "squared_nums = map(square_num, nums)\n",
        "\n",
        "\n",
        "print(list(squared_nums))\n"
      ]
    },
    {
      "cell_type": "code",
      "execution_count": 65,
      "id": "6d4d17f3-c40f-4944-8656-c6416b600361",
      "metadata": {
        "id": "6d4d17f3-c40f-4944-8656-c6416b600361",
        "outputId": "853c593b-827f-44ed-87a8-6a4062d89c7d",
        "colab": {
          "base_uri": "https://localhost:8080/"
        }
      },
      "outputs": [
        {
          "output_type": "stream",
          "name": "stdout",
          "text": [
            "Filtered list of even numbers: [2, 4, 6, 8, 10]\n"
          ]
        }
      ],
      "source": [
        "# Write a Python program to filter all even numbers from a list using the filter() function.\n",
        "\n",
        "def is_even(num):\n",
        "    return num % 2 == 0\n",
        "\n",
        "numbers = [1, 2, 3, 4, 5, 6, 7, 8, 9, 10]\n",
        "\n",
        "\n",
        "even_numbers = list(filter(is_even, numbers))\n",
        "\n",
        "print(\"Filtered list of even numbers:\", even_numbers)\n"
      ]
    },
    {
      "cell_type": "code",
      "execution_count": 66,
      "id": "6634ba1f-9f81-475e-b7c4-422d102afb75",
      "metadata": {
        "id": "6634ba1f-9f81-475e-b7c4-422d102afb75",
        "outputId": "64b555fd-b987-48f4-c3ea-6bf505e5983c",
        "colab": {
          "base_uri": "https://localhost:8080/"
        }
      },
      "outputs": [
        {
          "output_type": "stream",
          "name": "stdout",
          "text": [
            "15 is divisible by both 3 and 5: True\n",
            "30 is divisible by both 3 and 5: True\n",
            "45 is divisible by both 3 and 5: True\n",
            "50 is divisible by both 3 and 5: False\n",
            "60 is divisible by both 3 and 5: True\n",
            "75 is divisible by both 3 and 5: True\n",
            "80 is divisible by both 3 and 5: False\n"
          ]
        }
      ],
      "source": [
        "# Write a Python program to use a lambda function to check if a number is divisible by both 3 and 5.\n",
        "\n",
        "is_divisible_by_3_and_5 = lambda x: x % 3 == 0 and x % 5 == 0\n",
        "\n",
        "\n",
        "numbers = [15, 30, 45, 50, 60, 75, 80]\n",
        "results = {num: is_divisible_by_3_and_5(num) for num in numbers}\n",
        "\n",
        "\n",
        "for num, result in results.items():\n",
        "    print(f\"{num} is divisible by both 3 and 5: {result}\")\n"
      ]
    },
    {
      "cell_type": "code",
      "execution_count": 67,
      "id": "0aac8430-5d77-439d-9a99-9598fadf989c",
      "metadata": {
        "id": "0aac8430-5d77-439d-9a99-9598fadf989c",
        "outputId": "733c93bd-cb1b-4e30-e8bf-3bac245707b1",
        "colab": {
          "base_uri": "https://localhost:8080/"
        }
      },
      "outputs": [
        {
          "output_type": "stream",
          "name": "stdout",
          "text": [
            "[2, 4, 6, 8, 10]\n"
          ]
        }
      ],
      "source": [
        "# Write a Python program to multiply all numbers in a list by 2 using a lambda function inside map().\n",
        "\n",
        "numbers = [1, 2, 3, 4, 5]\n",
        "\n",
        "\n",
        "doubled_numbers = list(map(lambda x: x * 2, numbers))\n",
        "\n",
        "\n",
        "print(doubled_numbers)\n"
      ]
    },
    {
      "cell_type": "code",
      "execution_count": 68,
      "id": "e4cd5ba8-c6ec-4f0d-8787-bf0a4b7a2e22",
      "metadata": {
        "id": "e4cd5ba8-c6ec-4f0d-8787-bf0a4b7a2e22",
        "outputId": "f1fac1cd-aaef-4c78-facd-8cca2353237a",
        "colab": {
          "base_uri": "https://localhost:8080/"
        }
      },
      "outputs": [
        {
          "output_type": "stream",
          "name": "stdout",
          "text": [
            "Original list: [1, 2, 3, 4, 2, 2, 3]\n",
            "List after removing all occurrences of 2 : [1, 3, 4, 3]\n"
          ]
        }
      ],
      "source": [
        "# Write a Python program to remove all occurrences of a specific element from a list.\n",
        "def remove_all_occurrences(lst, element):\n",
        "    return [x for x in lst if x != element]\n",
        "\n",
        "\n",
        "my_list = [1, 2, 3, 4, 2, 2, 3]\n",
        "element_to_remove = 2\n",
        "new_list = remove_all_occurrences(my_list, element_to_remove)\n",
        "print(\"Original list:\", my_list)\n",
        "print(\"List after removing all occurrences of\", element_to_remove, \":\", new_list)\n"
      ]
    },
    {
      "cell_type": "markdown",
      "id": "caba77c7-93db-4893-8f48-c7365ed5c585",
      "metadata": {
        "id": "caba77c7-93db-4893-8f48-c7365ed5c585"
      },
      "source": [
        "**Note:**\n",
        "- All assignments must follow [PEP 8 – Style Guide for Python Code](https://peps.python.org/pep-0008/) guidelines.\n",
        "- You can add multiple solutions for each question. Create a new code cell next to the question and add it. Shortcut for creating cell : `Alt + Enter`"
      ]
    }
  ],
  "metadata": {
    "kernelspec": {
      "display_name": "Python 3 (ipykernel)",
      "language": "python",
      "name": "python3"
    },
    "language_info": {
      "codemirror_mode": {
        "name": "ipython",
        "version": 3
      },
      "file_extension": ".py",
      "mimetype": "text/x-python",
      "name": "python",
      "nbconvert_exporter": "python",
      "pygments_lexer": "ipython3",
      "version": "3.12.6"
    },
    "colab": {
      "provenance": [],
      "include_colab_link": true
    }
  },
  "nbformat": 4,
  "nbformat_minor": 5
}